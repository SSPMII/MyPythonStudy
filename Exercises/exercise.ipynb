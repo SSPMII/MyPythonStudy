{
 "cells": [
  {
   "cell_type": "code",
   "execution_count": 2,
   "metadata": {},
   "outputs": [
    {
     "name": "stdout",
     "output_type": "stream",
     "text": [
      "1234\n",
      "1243\n",
      "1324\n",
      "1342\n",
      "1423\n",
      "1432\n",
      "2134\n",
      "2143\n",
      "2314\n",
      "2341\n",
      "2413\n",
      "2431\n",
      "3124\n",
      "3142\n",
      "3214\n",
      "3241\n",
      "3412\n",
      "3421\n",
      "4123\n",
      "4132\n",
      "4213\n",
      "4231\n",
      "4312\n",
      "4321\n"
     ]
    }
   ],
   "source": [
    "# 有1、2、3、4个数字，能组成多少个互不相同且无重复数字的四位数？都是多少？\n",
    "for i in range(1,5):\n",
    "    for j in range(1,5):\n",
    "        for k in range(1,5):\n",
    "            for l in range(1,5):\n",
    "                if i != j and i != k and i != l and j != k and j != l and k != l:\n",
    "                    print(1000*i + 100*j + 10*k + l)"
   ]
  },
  {
   "cell_type": "code",
   "execution_count": 8,
   "metadata": {},
   "outputs": [
    {
     "name": "stdout",
     "output_type": "stream",
     "text": [
      "请输入当月利润:8547854\n",
      "75478.54000000001\n"
     ]
    }
   ],
   "source": [
    "'''\n",
    "企业发放的奖金根据利润提成。利润(I)低于或等于10万元时，奖金可提 10%；\n",
    "利润高于10万元，低于20万元时，低于10万元的部分按 10% 提成，高于10万元的部分，可以提成 7.5%；\n",
    "20万到40万之间时，高于20万元的部分，可提成 5%；\n",
    "40万到60万之间时，高于40万元的部分，可提成 3%；\n",
    "60万到100万之间时，高于60万元的部分，可提成 1.5%；\n",
    "高于100万元时，超过100万元的部分按 1% 提成，\n",
    "从键盘输入当月利润I，求应发放奖金总数？\n",
    "'''\n",
    "\n",
    "def CountBonus(i):\n",
    "    if i <= 1e5:\n",
    "        bonus = i * 0.1\n",
    "    elif i <= 2e5:\n",
    "        bonus = (i-1e5)*0.075 + 1e4\n",
    "    elif i <= 4e5:\n",
    "        bonus = (i-2e5)*0.05\n",
    "    elif i <= 6e5:\n",
    "        bonus = (i-4e5)*0.03\n",
    "    elif i <= 1e6:\n",
    "        bonus = (i-6e5)*0.015\n",
    "    else:\n",
    "        bonus = (i-1e6)*0.01\n",
    "    return bonus\n",
    "\n",
    "I = float(input('请输入当月利润:'))\n",
    "print(CountBonus(I))"
   ]
  },
  {
   "cell_type": "code",
   "execution_count": 16,
   "metadata": {},
   "outputs": [],
   "source": [
    "'''\n",
    "一个整数，它加上100后是一个完全平方数，再加上168又是一个完全平方数，请问该数是多少？\n",
    "'''\n",
    "#完全平方数:x = a * a\n",
    "#计算1e5范围内的整数\n",
    "import math\n",
    "for x in range(1,100000):\n",
    "    \n",
    "\n",
    "\n",
    "\n"
   ]
  }
 ],
 "metadata": {
  "kernelspec": {
   "display_name": "Python 3",
   "language": "python",
   "name": "python3"
  },
  "language_info": {
   "codemirror_mode": {
    "name": "ipython",
    "version": 3
   },
   "file_extension": ".py",
   "mimetype": "text/x-python",
   "name": "python",
   "nbconvert_exporter": "python",
   "pygments_lexer": "ipython3",
   "version": "3.6.5"
  }
 },
 "nbformat": 4,
 "nbformat_minor": 2
}
