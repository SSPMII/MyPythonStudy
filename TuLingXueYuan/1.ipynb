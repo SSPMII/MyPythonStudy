{
 "cells": [
  {
   "cell_type": "markdown",
   "metadata": {},
   "source": [
    "# 第一课\n",
    "* 变量\n",
    "    * 变量名称推荐：\n",
    "        - srv=server skt=socket posix命名规则为主\n",
    "        - 驼峰命名法（大驼峰）\n",
    "        - posix写法（用下划线连接，全小写）"
   ]
  },
  {
   "cell_type": "code",
   "execution_count": 1,
   "metadata": {},
   "outputs": [
    {
     "name": "stdout",
     "output_type": "stream",
     "text": [
      "['False', 'None', 'True', 'and', 'as', 'assert', 'break', 'class', 'continue', 'def', 'del', 'elif', 'else', 'except', 'finally', 'for', 'from', 'global', 'if', 'import', 'in', 'is', 'lambda', 'nonlocal', 'not', 'or', 'pass', 'raise', 'return', 'try', 'while', 'with', 'yield']\n"
     ]
    }
   ],
   "source": [
    "# 查看关键字的方法\n",
    "import keyword #引入关键字模块\n",
    "# 打印出系统全部关键字\n",
    "print(keyword.kwlist)\n"
   ]
  },
  {
   "cell_type": "markdown",
   "metadata": {},
   "source": [
    "## 变量声明\n",
    "- a1, a2, a3 = 1, 2, 3\n",
    "## 整数\n",
    "    - 二进制：0b开头 0b01101\n",
    "    - 八进制：0o开头 0o22\n",
    "    - 十六进制：数字上以0x开头\n",
    "    - 科学计数法：e/E跟10的几次幂\n",
    "        - 123.456 == 1.23456e2\n",
    "    - 复数： 5+3j 5+3J 3j （3j）\n",
    "## 字符串\n",
    "    - 单引号\n",
    "    - 双引号\n",
    "    - 三引号（三个单引号或三个双引号）\n",
    "    - 单双引号交错使用\n",
    "    \n",
    "    "
   ]
  },
  {
   "cell_type": "code",
   "execution_count": 4,
   "metadata": {},
   "outputs": [
    {
     "name": "stdout",
     "output_type": "stream",
     "text": [
      "18\n",
      "255\n"
     ]
    }
   ],
   "source": [
    "age = 0o22\n",
    "print(age)\n",
    "\n",
    "age = 0xff\n",
    "print(age)"
   ]
  }
 ],
 "metadata": {
  "kernelspec": {
   "display_name": "Python 3",
   "language": "python",
   "name": "python3"
  },
  "language_info": {
   "codemirror_mode": {
    "name": "ipython",
    "version": 3
   },
   "file_extension": ".py",
   "mimetype": "text/x-python",
   "name": "python",
   "nbconvert_exporter": "python",
   "pygments_lexer": "ipython3",
   "version": "3.6.5"
  }
 },
 "nbformat": 4,
 "nbformat_minor": 2
}
