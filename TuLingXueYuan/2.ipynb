{
 "cells": [
  {
   "cell_type": "markdown",
   "metadata": {},
   "source": [
    "# 第二课\n",
    "\n",
    "## 字符串\n",
    "- 转义字符 换行：\n",
    "            Windows下： \\n\n",
    "            Linux下： \\r\\n\n",
    "## 格式化\n",
    "- 百分号格式化： %d 整数  %s 字符串\n"
   ]
  },
  {
   "cell_type": "code",
   "execution_count": 6,
   "metadata": {},
   "outputs": [
    {
     "name": "stdout",
     "output_type": "stream",
     "text": [
      "hello, world\n",
      "i am 18 years old\n",
      "hello, world, i am 18 years old\n"
     ]
    }
   ],
   "source": [
    "s = \"hello, %s\"%\"world\"\n",
    "print(s)\n",
    "\n",
    "ss = \"i am %d years old\"\n",
    "print(ss%18)\n",
    "\n",
    "#多个参数用括号括起来\n",
    "sss = \"hello, %s, i am %d years old\"\n",
    "print(sss%(\"world\",18))"
   ]
  },
  {
   "cell_type": "markdown",
   "metadata": {},
   "source": [
    "- format格式化：{}和：表示"
   ]
  },
  {
   "cell_type": "code",
   "execution_count": 9,
   "metadata": {},
   "outputs": [
    {
     "name": "stdout",
     "output_type": "stream",
     "text": [
      "hello, world\n",
      "yes, i am 18 years old. hello, world.I am 18 years old\n"
     ]
    }
   ],
   "source": [
    "s = \"hello, {}\".format(\"world\")\n",
    "print(s)\n",
    "\n",
    "ss = \"yes, i am {1} years old. hello, {0}.I am {1} years old\".format(\"world\", 18)\n",
    "print(ss)"
   ]
  },
  {
   "cell_type": "markdown",
   "metadata": {},
   "source": [
    "## NONE\n",
    "- 可以占位\n",
    "- 函数返回值\n",
    "- 解除变量的绑定\n",
    "\n",
    "# 表达式\n",
    "\n",
    "# 运算符\n",
    "\n",
    "## 算数运算符\n",
    "- 取余 %\n",
    "- 取商 //\n",
    "- Python没有自增自减\n",
    "\n",
    "## 比较运算符\n",
    "- 比较结果是布尔值True/False\n",
    "\n",
    "## 赋值运算符\n",
    "\n",
    "## 逻辑运算符\n",
    "- and or not \n",
    "- Python中没有异或\n",
    "- and看作乘法，or看作加法\n",
    "- 逻辑运算的短路问题：按照一定顺序计算，一旦能确定整个式子的值，则不再进行计算"
   ]
  },
  {
   "cell_type": "code",
   "execution_count": 11,
   "metadata": {},
   "outputs": [
    {
     "ename": "SyntaxError",
     "evalue": "invalid syntax (<ipython-input-11-fb0fe8e22560>, line 1)",
     "output_type": "error",
     "traceback": [
      "\u001b[1;36m  File \u001b[1;32m\"<ipython-input-11-fb0fe8e22560>\"\u001b[1;36m, line \u001b[1;32m1\u001b[0m\n\u001b[1;33m    a = True or (b=8)\u001b[0m\n\u001b[1;37m                  ^\u001b[0m\n\u001b[1;31mSyntaxError\u001b[0m\u001b[1;31m:\u001b[0m invalid syntax\n"
     ]
    }
   ],
   "source": [
    "a = True or (b=8)\n",
    "print(a)"
   ]
  },
  {
   "cell_type": "markdown",
   "metadata": {},
   "source": [
    "## 成员运算符\n",
    "- in\n",
    "- not in\n",
    "\n",
    "## 身份运算\n",
    "- is：检测是否是同一个变量\n",
    "- is not\n",
    "\n",
    "## 运算符的优先级\n",
    "- 用括号"
   ]
  },
  {
   "cell_type": "markdown",
   "metadata": {},
   "source": [
    "# 程序结构\n",
    "- 顺序\n",
    "- 分支\n",
    "- 循环\n"
   ]
  }
 ],
 "metadata": {
  "kernelspec": {
   "display_name": "Python 3",
   "language": "python",
   "name": "python3"
  },
  "language_info": {
   "codemirror_mode": {
    "name": "ipython",
    "version": 3
   },
   "file_extension": ".py",
   "mimetype": "text/x-python",
   "name": "python",
   "nbconvert_exporter": "python",
   "pygments_lexer": "ipython3",
   "version": "3.6.5"
  }
 },
 "nbformat": 4,
 "nbformat_minor": 2
}
