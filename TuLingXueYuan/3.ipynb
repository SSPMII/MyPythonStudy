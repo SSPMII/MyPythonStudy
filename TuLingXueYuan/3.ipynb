{
 "cells": [
  {
   "cell_type": "markdown",
   "metadata": {},
   "source": [
    "# 三大结构\n",
    "\n",
    "# 分支\n",
    "- if 条件表达式：一定要有冒号\n",
    "- else： 一定要有冒号\n",
    "- elif 条件表达式：一定要有冒号\n",
    "- 双向分支if...else...必定执行一个，且只执行一个\n",
    "\n",
    "# 循环\n",
    "## range（）\n",
    "- range包含左边不包含右边\n",
    "- rangeint两边都包含\n",
    "\n",
    "## for-else语句\n",
    "- for结束时执行else\n"
   ]
  },
  {
   "cell_type": "code",
   "execution_count": 2,
   "metadata": {},
   "outputs": [
    {
     "name": "stdout",
     "output_type": "stream",
     "text": [
      "1\n",
      "2\n",
      "3\n",
      "4\n",
      "5\n",
      "6\n",
      "7\n",
      "8\n",
      "9\n",
      "打印结束\n"
     ]
    }
   ],
   "source": [
    "for i in range(1,10):\n",
    "    print(i)\n",
    "else:\n",
    "    print(\"打印结束\")"
   ]
  },
  {
   "cell_type": "markdown",
   "metadata": {},
   "source": [
    "## break，continue，pass\n",
    "- break 无条件结束\n",
    "- continue 无条件结束本循环，重新进入下一循环\n",
    "- pass 表示略过\n",
    "- 后面没有冒号"
   ]
  },
  {
   "cell_type": "code",
   "execution_count": 5,
   "metadata": {},
   "outputs": [
    {
     "name": "stdout",
     "output_type": "stream",
     "text": [
      "2是偶数\n",
      "4是偶数\n",
      "6是偶数\n",
      "8是偶数\n",
      "10是偶数\n"
     ]
    }
   ],
   "source": [
    "for i in range(1,11):\n",
    "    if i % 2 == 1:\n",
    "        continue\n",
    "    print(\"{}是偶数\".format(i))"
   ]
  },
  {
   "cell_type": "markdown",
   "metadata": {},
   "source": [
    "## for 变量起名\n",
    "- i,j,k,l,m,n idx等\n",
    "- 变量名不重要可以使用（_）"
   ]
  },
  {
   "cell_type": "markdown",
   "metadata": {},
   "source": [
    "# while循环\n",
    "- 不知道具体的循环次数\n",
    "- while-else else只执行一次"
   ]
  },
  {
   "cell_type": "code",
   "execution_count": 6,
   "metadata": {},
   "outputs": [
    {
     "name": "stdout",
     "output_type": "stream",
     "text": [
      "你要翻几倍?2\n",
      "第1年本息和为157500.0块钱\n",
      "第2年本息和为165375.0块钱\n",
      "第3年本息和为173643.75块钱\n",
      "第4年本息和为182325.9375块钱\n",
      "第5年本息和为191442.234375块钱\n",
      "第6年本息和为201014.34609375块钱\n",
      "第7年本息和为211065.06339843752块钱\n",
      "第8年本息和为221618.3165683594块钱\n",
      "第9年本息和为232699.2323967774块钱\n",
      "第10年本息和为244334.19401661627块钱\n",
      "第11年本息和为256550.9037174471块钱\n",
      "第12年本息和为269378.4489033195块钱\n",
      "第13年本息和为282847.37134848547块钱\n",
      "第14年本息和为296989.73991590977块钱\n",
      "第15年本息和为311839.2269117053块钱\n",
      "本金翻倍2啦\n"
     ]
    }
   ],
   "source": [
    "benqian = 150000\n",
    "year = 0\n",
    "n = int(input(\"你要翻几倍?\"))\n",
    "while benqian < 150000 * n:\n",
    "    benqian *= 1 + 0.05\n",
    "    year += 1\n",
    "    print(\"第{0}年本息和为{1}块钱\".format(year, benqian))\n",
    "else:\n",
    "    print(\"本金翻倍{}啦\".format(n))"
   ]
  }
 ],
 "metadata": {
  "kernelspec": {
   "display_name": "Python 3",
   "language": "python",
   "name": "python3"
  },
  "language_info": {
   "codemirror_mode": {
    "name": "ipython",
    "version": 3
   },
   "file_extension": ".py",
   "mimetype": "text/x-python",
   "name": "python",
   "nbconvert_exporter": "python",
   "pygments_lexer": "ipython3",
   "version": "3.6.5"
  }
 },
 "nbformat": 4,
 "nbformat_minor": 2
}
