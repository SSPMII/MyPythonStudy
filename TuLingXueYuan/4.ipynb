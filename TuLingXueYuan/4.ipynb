{
 "cells": [
  {
   "cell_type": "markdown",
   "metadata": {},
   "source": [
    "# 函数\n",
    "- 函数名不要用大驼峰规则\n",
    "- return 直接跟返回的东西,没有括号\n",
    "- return 无条件返回,后面不执行\n"
   ]
  },
  {
   "cell_type": "code",
   "execution_count": 3,
   "metadata": {},
   "outputs": [
    {
     "name": "stdout",
     "output_type": "stream",
     "text": [
      "Help on built-in function print in module builtins:\n",
      "\n",
      "print(...)\n",
      "    print(value, ..., sep=' ', end='\\n', file=sys.stdout, flush=False)\n",
      "    \n",
      "    Prints the values to a stream, or to sys.stdout by default.\n",
      "    Optional keyword arguments:\n",
      "    file:  a file-like object (stream); defaults to the current sys.stdout.\n",
      "    sep:   string inserted between values, default a space.\n",
      "    end:   string appended after the last value, default a newline.\n",
      "    flush: whether to forcibly flush the stream.\n",
      "\n"
     ]
    }
   ],
   "source": [
    "# 查看函数帮助\n",
    "help(print)"
   ]
  },
  {
   "cell_type": "code",
   "execution_count": 4,
   "metadata": {},
   "outputs": [
    {
     "name": "stdout",
     "output_type": "stream",
     "text": [
      "01 02 03 04 05 06 07 08 09 \n",
      "04 06 08 10 12 14 16 18 \n",
      "09 12 15 18 21 24 27 \n",
      "16 20 24 28 32 36 \n",
      "25 30 35 40 45 \n",
      "36 42 48 54 \n",
      "49 56 63 \n",
      "64 72 \n",
      "81 \n"
     ]
    }
   ],
   "source": [
    "# 九九乘法表\n",
    "def chengfa(a):\n",
    "    for i in range(a, 10):\n",
    "        if len(str(i * a)) == 1:\n",
    "            print(\"0\" + str(i * a), end=\" \")\n",
    "        else:\n",
    "            print(i * a, end=\" \")\n",
    "for j in range(1, 10):\n",
    "    chengfa(j)\n",
    "    print()\n",
    "    "
   ]
  },
  {
   "cell_type": "code",
   "execution_count": 5,
   "metadata": {},
   "outputs": [
    {
     "name": "stdout",
     "output_type": "stream",
     "text": [
      "01 02 03 04 05 06 07 08 09 \n",
      "04 06 08 10 12 14 16 18 \n",
      "09 12 15 18 21 24 27 \n",
      "16 20 24 28 32 36 \n",
      "25 30 35 40 45 \n",
      "36 42 48 54 \n",
      "49 56 63 \n",
      "64 72 \n",
      "81 \n"
     ]
    }
   ],
   "source": [
    "# 九九乘法表 方法2\n",
    "for i in range(1, 10):\n",
    "    for j in range(i, 10):\n",
    "        if len(str(i * j)) == 1:\n",
    "            print(\"0\" + str(i * j), end=\" \")\n",
    "        else:\n",
    "            print(i * j, end=\" \")\n",
    "    print()\n"
   ]
  },
  {
   "cell_type": "code",
   "execution_count": 6,
   "metadata": {},
   "outputs": [
    {
     "name": "stdout",
     "output_type": "stream",
     "text": [
      "01 \n",
      "02 04 \n",
      "03 06 09 \n",
      "04 08 12 16 \n",
      "05 10 15 20 25 \n",
      "06 12 18 24 30 36 \n",
      "07 14 21 28 35 42 49 \n",
      "08 16 24 32 40 48 56 64 \n",
      "09 18 27 36 45 54 63 72 81 \n"
     ]
    }
   ],
   "source": [
    "# 九九乘法表 方法3\n",
    "for i in range(1, 10):\n",
    "    for j in range(1, i+1):\n",
    "        if len(str(i * j)) == 1:\n",
    "            print(\"0\" + str(i * j), end=\" \")\n",
    "        else:\n",
    "            print(i * j, end=\" \")\n",
    "    print()\n"
   ]
  },
  {
   "cell_type": "markdown",
   "metadata": {},
   "source": [
    "\n",
    "## 收集参数\n",
    "- def fuc(*args) 约定用args\n",
    "- 可以与其它参数共存\n",
    "- args是一个list\n",
    "- 可以不带参数调用\n",
    "- 传入list或tuple(见示例),在名称前加*,表示把list中每一个元素传入函数\n",
    "\n",
    "\n"
   ]
  },
  {
   "cell_type": "code",
   "execution_count": 3,
   "metadata": {},
   "outputs": [
    {
     "name": "stdout",
     "output_type": "stream",
     "text": [
      "1 2 3 4 \n",
      "1 2 3 4 "
     ]
    }
   ],
   "source": [
    "def fuc(*args):\n",
    "    for item in args:\n",
    "        print(item, end=\" \")\n",
    "        \n",
    "num = [1, 2, 3, 4]\n",
    "fuc(num[0], num[1], num[2], num[3])\n",
    "print()\n",
    "#等价于\n",
    "fuc(*num)"
   ]
  },
  {
   "cell_type": "markdown",
   "metadata": {},
   "source": [
    "## 关键字收集参数\n",
    "- func(**kwargs)\n",
    "- 按字典格式访问\n",
    "- 字典的访问\n",
    "\n",
    "    for k,v in kwargs.item():\n",
    "        print(k, v)\n",
    "\n",
    "- 传入dict,在名称前加**,表示把dict中每一个元素传入函数\n",
    "\n",
    "## 函数文档\n",
    "- 函数第一行三引号字符串\n",
    "- 调用\n",
    "    - help(func)\n",
    "    - func.__doc__\n"
   ]
  },
  {
   "cell_type": "code",
   "execution_count": 3,
   "metadata": {},
   "outputs": [
    {
     "name": "stdout",
     "output_type": "stream",
     "text": [
      "Help on function stu in module __main__:\n",
      "\n",
      "stu(name, age, *args)\n",
      "    这是说明文档\n",
      "    第二行\n",
      "    第三行\n",
      "\n"
     ]
    },
    {
     "data": {
      "text/plain": [
       "'\\n    这是说明文档\\n    第二行\\n    第三行\\n    '"
      ]
     },
     "execution_count": 3,
     "metadata": {},
     "output_type": "execute_result"
    }
   ],
   "source": [
    "def stu(name, age, *args):\n",
    "    '''\n",
    "    这是说明文档\n",
    "    第二行\n",
    "    第三行\n",
    "    '''\n",
    "    return 1\n",
    "#第一种\n",
    "help(stu)\n",
    "stu.__doc__\n",
    "\n",
    "    "
   ]
  },
  {
   "cell_type": "markdown",
   "metadata": {},
   "source": [
    "# 变量作用域\n",
    "- LEGB原则\n",
    "    - L(Local)局部作用域\n",
    "    - E(Enclosing function locale) 外部嵌套函数作用域\n",
    "    - G(Global module) 函数定义所在模块作用域\n",
    "    - B(Buildin) Python内置模块的作用域\n",
    " "
   ]
  },
  {
   "cell_type": "code",
   "execution_count": 6,
   "metadata": {},
   "outputs": [
    {
     "name": "stdout",
     "output_type": "stream",
     "text": [
      "100\n",
      "100\n"
     ]
    }
   ],
   "source": [
    "def fun():\n",
    "    global b1 \n",
    "    b1 = 100\n",
    "    print(b1)\n",
    "\n",
    "fun()  #需要先调用函数，才能产生b1\n",
    "print(b1)"
   ]
  },
  {
   "cell_type": "markdown",
   "metadata": {},
   "source": [
    "# globals，locals函数\n",
    "- 查看全局变量和局部变量\n",
    "- globals() locals()"
   ]
  },
  {
   "cell_type": "markdown",
   "metadata": {},
   "source": [
    "# eval()函数\n",
    "- 把一个字符串当作一个表达式来执行，返回执行结果\n",
    "    - evals(string_code, globals=None, locals=None\n",
    "\n",
    "# exec()函数\n",
    "- 返回值为None\n",
    "    - exec(string_code, globals=None, locals=None\n"
   ]
  },
  {
   "cell_type": "code",
   "execution_count": 10,
   "metadata": {},
   "outputs": [
    {
     "name": "stdout",
     "output_type": "stream",
     "text": [
      "300 300\n"
     ]
    }
   ],
   "source": [
    "x = 100\n",
    "y = 200\n",
    "z1 = x+y\n",
    "z2= eval('x+y')\n",
    "print(z1,z2)"
   ]
  },
  {
   "cell_type": "markdown",
   "metadata": {},
   "source": [
    "# 递归函数\n",
    "- 递归深度有限制"
   ]
  },
  {
   "cell_type": "code",
   "execution_count": 14,
   "metadata": {},
   "outputs": [],
   "source": [
    "x = 0\n",
    "def func():\n",
    "    global x\n",
    "    x += 1\n",
    "    print(x)\n",
    "    \n",
    "    func()\n",
    "func()"
   ]
  },
  {
   "cell_type": "code",
   "execution_count": 25,
   "metadata": {},
   "outputs": [
    {
     "name": "stdout",
     "output_type": "stream",
     "text": [
      "1 2 3 5 8 13 21 34 55 "
     ]
    }
   ],
   "source": [
    "# 斐波那契数列\n",
    "# 1, 1, 2, 3, 5, 8, 13......\n",
    "# f(0) = 1,, f(1) = 1, f(n) = f(n-1) + f(n-2)\n",
    "def fib(n):\n",
    "    if n< 0:\n",
    "        return '错误的数字'\n",
    "    elif n == 0:\n",
    "        return 1\n",
    "    elif n == 1:\n",
    "        return 1\n",
    "    else:\n",
    "        return fib(n-1) + fib(n-2)\n",
    "for i in range(1, 10):\n",
    "    print(fib(i), end=' ')\n"
   ]
  },
  {
   "cell_type": "code",
   "execution_count": 10,
   "metadata": {},
   "outputs": [
    {
     "name": "stdout",
     "output_type": "stream",
     "text": [
      "A --> C\n",
      "A --> B\n",
      "C --> B\n",
      "A --> C\n",
      "B --> A\n",
      "B --> C\n",
      "A --> C\n"
     ]
    }
   ],
   "source": [
    "#汉诺塔\n",
    "#有三根柱子，n个盘子，只能从小到大摆，一开始在第一根柱子上，需要移动到第三根柱子上，输出步骤\n",
    "\n",
    "def hanoi(n, a, b, c):\n",
    "    if n == 1:\n",
    "        print(a, '-->', c)\n",
    "    else:\n",
    "        hanoi(n-1, a, c, b)\n",
    "        print(a, '-->', c)\n",
    "        hanoi(n-1, b, a, c)\n",
    "hanoi(3, 'A', 'B', 'C')"
   ]
  }
 ],
 "metadata": {
  "kernelspec": {
   "display_name": "Python 3",
   "language": "python",
   "name": "python3"
  },
  "language_info": {
   "codemirror_mode": {
    "name": "ipython",
    "version": 3
   },
   "file_extension": ".py",
   "mimetype": "text/x-python",
   "name": "python",
   "nbconvert_exporter": "python",
   "pygments_lexer": "ipython3",
   "version": "3.6.5"
  }
 },
 "nbformat": 4,
 "nbformat_minor": 2
}
