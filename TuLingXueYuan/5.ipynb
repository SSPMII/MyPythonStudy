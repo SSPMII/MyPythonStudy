{
 "cells": [
  {
   "cell_type": "markdown",
   "metadata": {},
   "source": [
    "# 内置数据结构（变量类型）\n",
    "\n",
    "## list\n",
    "- 有先后顺序"
   ]
  },
  {
   "cell_type": "code",
   "execution_count": 6,
   "metadata": {},
   "outputs": [
    {
     "name": "stdout",
     "output_type": "stream",
     "text": [
      "[] [] [1, 2, -8] []\n"
     ]
    }
   ],
   "source": [
    "l1=[]\n",
    "l2=list()\n",
    "l3=[1,2,-8]\n",
    "l4=list()\n",
    "print(l1,l2,l3,l4)"
   ]
  },
  {
   "cell_type": "markdown",
   "metadata": {},
   "source": [
    "- 访问\n",
    "- 分片\n",
    "    - l[ : ]\n",
    "    - 包含左边，不包含右边\n",
    "    - 步长\n",
    "    - 下标可以超出范围，超出部分不考虑\n",
    "    - 下标为负数，规定最后一个为-1\n",
    "    - 注意：分片操作必须从左到右，不过步长为负则可以从右往左"
   ]
  },
  {
   "cell_type": "code",
   "execution_count": 16,
   "metadata": {},
   "outputs": [
    {
     "name": "stdout",
     "output_type": "stream",
     "text": [
      "[3, 4, 5, 3, 1, 2, 8]\n",
      "[4, 5, 3]\n",
      "[3, 4, 5, 3, 1, 2, 8]\n",
      "[5, 3, 1, 2, 8]\n",
      "[4, 3, 2]\n",
      "[4, 5, 3, 1, 2, 8]\n",
      "[1, 2, 8]\n",
      "[8, 2, 1]\n"
     ]
    }
   ],
   "source": [
    "#分片操作\n",
    "l=[3,4,5,3,1,2,8]\n",
    "print(l)\n",
    "print(l[1:4])\n",
    "print(l[:])\n",
    "print(l[2:])\n",
    "print(l[1:6:2])\n",
    "print(l[1:10])\n",
    "print(l[-3:7])\n",
    "print(l[-1:-4:-1])"
   ]
  },
  {
   "cell_type": "markdown",
   "metadata": {},
   "source": [
    "## 分片操作生成新的list\n",
    "- 内置函数id ： 显示变量或者数据的唯一确定编号"
   ]
  },
  {
   "cell_type": "code",
   "execution_count": 20,
   "metadata": {},
   "outputs": [
    {
     "name": "stdout",
     "output_type": "stream",
     "text": [
      "2101025433232\n",
      "1434289440\n",
      "1434286240\n"
     ]
    }
   ],
   "source": [
    "# id\n",
    "a= 100\n",
    "b= 200\n",
    "c = a\n",
    "a= 300\n",
    "print(id(a))\n",
    "print(id(b))\n",
    "print(id(c))"
   ]
  },
  {
   "cell_type": "code",
   "execution_count": 28,
   "metadata": {
    "scrolled": true
   },
   "outputs": [
    {
     "name": "stdout",
     "output_type": "stream",
     "text": [
      "2101026296264\n",
      "2101026384520\n",
      "2101026384520\n",
      "[1, 100, 3, 4]\n",
      "[1, 2, 3, 4]\n",
      "[1, 100, 3, 4]\n",
      "[1, 100, 3, 4]\n"
     ]
    }
   ],
   "source": [
    "l= [1,2,3,4]\n",
    "ll=l[:]\n",
    "lll=ll\n",
    "print(id(l))\n",
    "print(id(ll))\n",
    "print(id(lll))\n",
    "\n",
    "l[1]=100\n",
    "print(l)\n",
    "print(ll)\n",
    "\n",
    "ll[1]=100\n",
    "print(ll)\n",
    "print(lll)"
   ]
  },
  {
   "cell_type": "markdown",
   "metadata": {},
   "source": [
    "### 列表的删除\n",
    "- del"
   ]
  },
  {
   "cell_type": "code",
   "execution_count": 30,
   "metadata": {
    "scrolled": true
   },
   "outputs": [
    {
     "name": "stdout",
     "output_type": "stream",
     "text": [
      "2101026547784\n",
      "2101026547784\n",
      "[1, 2, 31, 6, 3, 8, 0]\n"
     ]
    }
   ],
   "source": [
    "l= [1,2,2,31,6,3,8,0]\n",
    "print(id(l))\n",
    "del l[2]\n",
    "print(id(l))\n",
    "print(l)"
   ]
  },
  {
   "cell_type": "markdown",
   "metadata": {},
   "source": [
    "### 列表操作\n",
    "- 加法\n",
    "- 乘法\n",
    "- 成员运算"
   ]
  },
  {
   "cell_type": "code",
   "execution_count": 31,
   "metadata": {},
   "outputs": [
    {
     "name": "stdout",
     "output_type": "stream",
     "text": [
      "True\n"
     ]
    }
   ],
   "source": [
    "a = [1,2,3,4,5,6,7,8]\n",
    "b = 4\n",
    "c = b in a\n",
    "print(c)"
   ]
  },
  {
   "cell_type": "markdown",
   "metadata": {},
   "source": [
    "- 列表的遍历\n",
    "    - for\n",
    "    - while（一般不用）\n",
    "- 双层列表\n",
    "    - for"
   ]
  },
  {
   "cell_type": "code",
   "execution_count": 35,
   "metadata": {},
   "outputs": [
    {
     "name": "stdout",
     "output_type": "stream",
     "text": [
      "one --> 1\n",
      "two --> 2\n",
      "three --> 3\n"
     ]
    }
   ],
   "source": [
    "a= [['one', 1], ['two', 2], ['three', 3]]\n",
    "for k,v in a:\n",
    "    print(k,'-->',v)"
   ]
  },
  {
   "cell_type": "code",
   "execution_count": 38,
   "metadata": {
    "scrolled": true
   },
   "outputs": [
    {
     "ename": "ValueError",
     "evalue": "too many values to unpack (expected 2)",
     "traceback": [
      "\u001b[1;31m---------------------------------------------------------------------------\u001b[0m",
      "\u001b[1;31mValueError\u001b[0m                                Traceback (most recent call last)",
      "\u001b[1;32m<ipython-input-38-37b4e1e1def8>\u001b[0m in \u001b[0;36m<module>\u001b[1;34m()\u001b[0m\n\u001b[0;32m      1\u001b[0m \u001b[0ma\u001b[0m\u001b[1;33m=\u001b[0m \u001b[1;33m[\u001b[0m\u001b[1;33m[\u001b[0m\u001b[1;34m'one'\u001b[0m\u001b[1;33m,\u001b[0m \u001b[1;36m1\u001b[0m\u001b[1;33m,\u001b[0m \u001b[1;34m'ada'\u001b[0m\u001b[1;33m]\u001b[0m\u001b[1;33m,\u001b[0m \u001b[1;33m[\u001b[0m\u001b[1;34m'two'\u001b[0m\u001b[1;33m,\u001b[0m \u001b[1;36m2\u001b[0m\u001b[1;33m]\u001b[0m\u001b[1;33m,\u001b[0m \u001b[1;33m[\u001b[0m\u001b[1;34m'three'\u001b[0m\u001b[1;33m,\u001b[0m \u001b[1;36m3\u001b[0m\u001b[1;33m]\u001b[0m\u001b[1;33m]\u001b[0m\u001b[1;33m\u001b[0m\u001b[0m\n\u001b[1;32m----> 2\u001b[1;33m \u001b[1;32mfor\u001b[0m \u001b[0mk\u001b[0m\u001b[1;33m,\u001b[0m\u001b[0mv\u001b[0m \u001b[1;32min\u001b[0m \u001b[0ma\u001b[0m\u001b[1;33m:\u001b[0m\u001b[1;33m\u001b[0m\u001b[0m\n\u001b[0m\u001b[0;32m      3\u001b[0m     \u001b[0mprint\u001b[0m\u001b[1;33m(\u001b[0m\u001b[0mk\u001b[0m\u001b[1;33m,\u001b[0m\u001b[1;34m'-->'\u001b[0m\u001b[1;33m,\u001b[0m\u001b[0mv\u001b[0m\u001b[1;33m)\u001b[0m\u001b[1;33m\u001b[0m\u001b[0m\n",
      "\u001b[1;31mValueError\u001b[0m: too many values to unpack (expected 2)"
     ],
     "output_type": "error"
    }
   ],
   "source": [
    "a= [['one', 1, 'ada'], ['two', 2], ['three', 3]]\n",
    "for k,v in a:\n",
    "    print(k,'-->',v)"
   ]
  },
  {
   "cell_type": "markdown",
   "metadata": {},
   "source": [
    "- 列表内涵\n",
    "    - 使用简单的方法创建列表\n",
    "  "
   ]
  },
  {
   "cell_type": "code",
   "execution_count": 44,
   "metadata": {},
   "outputs": [
    {
     "name": "stdout",
     "output_type": "stream",
     "text": [
      "[1, 2, 3, 4, 5, 6, 7, 8, 9, 10, 11, 12, 13, 14, 15, 16, 17, 18, 19, 20, 21, 22, 23, 24]\n",
      "[10, 20, 30, 40, 50, 60, 70, 80, 90, 100, 110, 120, 130, 140, 150, 160, 170, 180, 190, 200, 210, 220, 230, 240]\n",
      "[2, 4, 6, 8, 10, 12, 14, 16, 18, 20, 22, 24]\n"
     ]
    }
   ],
   "source": [
    "a= [x for x in range(1,25)]\n",
    "b= [i for i in a]\n",
    "# 乘以10\n",
    "c= [i*10 for i in a]\n",
    "# 所有偶数\n",
    "d= [i for i in a if i%2==0]\n",
    "print(b)\n",
    "print(c)\n",
    "print(d)"
   ]
  },
  {
   "cell_type": "markdown",
   "metadata": {},
   "source": [
    "- 列表生成式的嵌套\n"
   ]
  },
  {
   "cell_type": "code",
   "execution_count": 46,
   "metadata": {},
   "outputs": [
    {
     "name": "stdout",
     "output_type": "stream",
     "text": [
      "[1, 2, 3]\n",
      "[100, 200, 300]\n",
      "[101, 201, 301, 102, 202, 302, 103, 203, 303]\n"
     ]
    }
   ],
   "source": [
    "# 生成两个列表\n",
    "a= [i for i in range(1,4)]\n",
    "print(a)\n",
    "b= [i for i in range(100,400) if i%100==0]\n",
    "print(b)\n",
    "c= [m+n for m in a for n in b ]\n",
    "print(c)"
   ]
  },
  {
   "cell_type": "markdown",
   "metadata": {},
   "source": [
    "## 列表常用函数\n",
    "\n",
    "- len：求列表长度\n",
    "- max：求最大值\n",
    "- min：最小值\n",
    "- list：转换成list"
   ]
  },
  {
   "cell_type": "code",
   "execution_count": 48,
   "metadata": {},
   "outputs": [
    {
     "name": "stdout",
     "output_type": "stream",
     "text": [
      "['I', ' ', 'l', 'o', 'v', 'e', ' ', 'w', 'e', 'n', 'p', 'e', 'n', 'g']\n",
      "[1, 2, 3, 4]\n"
     ]
    }
   ],
   "source": [
    "# list\n",
    "a= 'I love wenpeng'\n",
    "print(list(a))\n",
    "print(list(range(1,5)))"
   ]
  },
  {
   "cell_type": "markdown",
   "metadata": {},
   "source": [
    "- insert：插入位置之前"
   ]
  },
  {
   "cell_type": "code",
   "execution_count": 51,
   "metadata": {},
   "outputs": [
    {
     "name": "stdout",
     "output_type": "stream",
     "text": [
      "[0, 1, 2, 3, 4, 5, 6, 7, 8, 9]\n",
      "[0, 1, 2, 3, 4, 233, 5, 6, 7, 8, 9]\n"
     ]
    }
   ],
   "source": [
    "#insert\n",
    "s= [i for i in range(0,10)]\n",
    "print(s)\n",
    "#在5号位置前插入233\n",
    "s.insert(5,233)\n",
    "print(s)"
   ]
  },
  {
   "cell_type": "markdown",
   "metadata": {},
   "source": [
    "- pop：拿出最后一位元素（默认）\n",
    "    - list.pop(index=-1)\n",
    "- del:按下标删除\n",
    "- remove: 按值删除\n",
    "    remove最好先进行判断有没有值再删除，或使用try...except等进行异常处理"
   ]
  },
  {
   "cell_type": "code",
   "execution_count": 54,
   "metadata": {},
   "outputs": [
    {
     "name": "stdout",
     "output_type": "stream",
     "text": [
      "[1, 2, 3, 4, 233, 5, 6, 7, 8, 9]\n",
      "[1, 2, 3, 4, 5, 6, 7, 8, 9]\n"
     ]
    }
   ],
   "source": [
    "a= [i for i in range(1,10)]\n",
    "a.insert(4,233)\n",
    "print(a)\n",
    "a.remove(233)\n",
    "# if 233 in a:\n",
    "#    a.remove(233)\n",
    "print(a)"
   ]
  },
  {
   "cell_type": "markdown",
   "metadata": {},
   "source": [
    "- clear:清空 地址不变\n",
    "    - a=list()以及a=[]地址会改变，是新的列表\n",
    "- reverse：翻转\n",
    "- extend:扩展，直接把另一个列表接在列表后面\n",
    "- count：返回列表中指定值的个数"
   ]
  },
  {
   "cell_type": "code",
   "execution_count": 61,
   "metadata": {
    "scrolled": true
   },
   "outputs": [
    {
     "name": "stdout",
     "output_type": "stream",
     "text": [
      "[1, 2, 3, 4, 5] \n",
      " 2101026345864\n",
      "[5, 4, 3, 2, 1] \n",
      " 2101026345864\n"
     ]
    }
   ],
   "source": [
    "a= [1,2,3,4,5]\n",
    "print(a,'\\n',id(a))\n",
    "a.reverse()\n",
    "print(a,'\\n',id(a))"
   ]
  },
  {
   "cell_type": "markdown",
   "metadata": {},
   "source": [
    "- copy：拷贝，浅拷贝"
   ]
  },
  {
   "cell_type": "code",
   "execution_count": 71,
   "metadata": {},
   "outputs": [
    {
     "name": "stdout",
     "output_type": "stream",
     "text": [
      "[1, 2, 3, 100, 5, 6, 7]\n",
      "[1, 2, 3, 100, 5, 6, 7]\n",
      "[1, 2, 3, 100, 5, 6, 7]\n",
      "[1, 2, 3, 233, 5, 6, 7]\n"
     ]
    }
   ],
   "source": [
    "# list直接赋值是传址\n",
    "a= [1,2,3,4,5,6,7]\n",
    "b= a\n",
    "b[3]= 100\n",
    "print('{}\\n{}'.format(a,b))\n",
    "#采用copy,传值，浅拷贝\n",
    "c= a.copy()\n",
    "c[3]=233\n",
    "print('{}\\n{}'.format(a,c))"
   ]
  },
  {
   "cell_type": "code",
   "execution_count": 79,
   "metadata": {},
   "outputs": [
    {
     "name": "stdout",
     "output_type": "stream",
     "text": [
      "[1, 2, 3, [1, 2, 3]] [1, 2, 3, [1, 2, 3]]\n",
      "1434283104 1434283104\n",
      "[1, 2, 3, [1, 100, 3]] [1, 2, 3, [1, 100, 3]]\n",
      "1434286240 1434286240\n"
     ]
    }
   ],
   "source": [
    "#浅拷贝和深拷贝的区别\n",
    "#拷贝父对象，不会拷贝对象的内部的子对象\n",
    "#深拷贝使用copy模块，deepcopy\n",
    "\n",
    "a = [1,2,3,[1,2,3]]\n",
    "b = a.copy()\n",
    "print(a,b)\n",
    "print(id(a[3][1]),id(b[3][1]))\n",
    "b[3][1]= 100\n",
    "print(a,b)\n",
    "print(id(a[3][1]),id(b[3][1]))"
   ]
  },
  {
   "cell_type": "markdown",
   "metadata": {},
   "source": [
    "# 元祖tupple\n",
    "- 不可更改的list\n",
    "- 创建只有一个值的元祖\n",
    "    - t= (1,)#要有一个逗号，否则只是1\n",
    "    - t= 1,\n",
    "- 创建多个值，可以不用括号\n",
    "- tuple不可修改指的是它的值，但tuple内的list可以修改\n"
   ]
  },
  {
   "cell_type": "code",
   "execution_count": 85,
   "metadata": {},
   "outputs": [
    {
     "name": "stdout",
     "output_type": "stream",
     "text": [
      "(1, 2, 3, 4, 5, 6)\n",
      "<class 'tuple'>\n",
      "(1, 2, 3, [1, 111, 3])\n",
      "<class 'tuple'>\n"
     ]
    }
   ],
   "source": [
    "t1 = (1,2,3)\n",
    "t2 = (4,5,6)\n",
    "t1 += t2\n",
    "print(t1)\n",
    "\n",
    "a = (1,2,3,[1,2,3])\n",
    "print(type(a))\n",
    "a[3][1] = 111\n",
    "print(a)\n",
    "print(type(a))"
   ]
  },
  {
   "cell_type": "code",
   "execution_count": 86,
   "metadata": {
    "scrolled": true
   },
   "outputs": [
    {
     "ename": "NameError",
     "evalue": "name 'i' is not defined",
     "traceback": [
      "\u001b[1;31m---------------------------------------------------------------------------\u001b[0m",
      "\u001b[1;31mNameError\u001b[0m                                 Traceback (most recent call last)",
      "\u001b[1;32m<ipython-input-86-0116b79f8119>\u001b[0m in \u001b[0;36m<module>\u001b[1;34m()\u001b[0m\n\u001b[0;32m      1\u001b[0m \u001b[0mt\u001b[0m \u001b[1;33m=\u001b[0m \u001b[1;33m(\u001b[0m\u001b[1;33m(\u001b[0m\u001b[1;36m1\u001b[0m\u001b[1;33m,\u001b[0m\u001b[1;36m2\u001b[0m\u001b[1;33m,\u001b[0m\u001b[1;36m3\u001b[0m\u001b[1;33m)\u001b[0m\u001b[1;33m,\u001b[0m\u001b[1;33m(\u001b[0m\u001b[1;34m'i love wenpeng'\u001b[0m\u001b[1;33m)\u001b[0m\u001b[1;33m,\u001b[0m\u001b[1;33m(\u001b[0m\u001b[1;36m44\u001b[0m\u001b[1;33m,\u001b[0m\u001b[1;36m55\u001b[0m\u001b[1;33m,\u001b[0m\u001b[1;36m66\u001b[0m\u001b[1;33m)\u001b[0m\u001b[1;33m)\u001b[0m\u001b[1;33m\u001b[0m\u001b[0m\n\u001b[1;32m----> 2\u001b[1;33m \u001b[1;32mfor\u001b[0m \u001b[0mi\u001b[0m\u001b[1;33m,\u001b[0m\u001b[0mj\u001b[0m \u001b[1;32min\u001b[0m \u001b[0mt\u001b[0m\u001b[1;33m[\u001b[0m\u001b[0mi\u001b[0m\u001b[1;33m]\u001b[0m\u001b[1;33m[\u001b[0m\u001b[0mj\u001b[0m\u001b[1;33m]\u001b[0m\u001b[1;33m:\u001b[0m\u001b[1;33m\u001b[0m\u001b[0m\n\u001b[0m\u001b[0;32m      3\u001b[0m     \u001b[0mprint\u001b[0m\u001b[1;33m(\u001b[0m\u001b[0mi\u001b[0m\u001b[1;33m,\u001b[0m\u001b[0mj\u001b[0m\u001b[1;33m)\u001b[0m\u001b[1;33m\u001b[0m\u001b[0m\n",
      "\u001b[1;31mNameError\u001b[0m: name 'i' is not defined"
     ],
     "output_type": "error"
    }
   ],
   "source": [
    "t = ((1,2,3),('i love wenpeng'),(44,55,66))\n",
    "for i,j in t[i][j]:\n",
    "    print(i,j)"
   ]
  },
  {
   "cell_type": "markdown",
   "metadata": {},
   "source": [
    "## 元祖的函数\n",
    "- len()\n",
    "- max\n",
    "- min\n",
    "- tuple()转换成元祖"
   ]
  },
  {
   "cell_type": "code",
   "execution_count": 90,
   "metadata": {},
   "outputs": [
    {
     "name": "stdout",
     "output_type": "stream",
     "text": [
      "4\n",
      "1\n"
     ]
    }
   ],
   "source": [
    "# max，min\n",
    "t = (1,2,3,4,4,4,1,1)\n",
    "print(max(t))\n",
    "print(min(t))"
   ]
  },
  {
   "cell_type": "markdown",
   "metadata": {},
   "source": [
    "- count\n",
    "- index"
   ]
  },
  {
   "cell_type": "code",
   "execution_count": 91,
   "metadata": {},
   "outputs": [
    {
     "name": "stdout",
     "output_type": "stream",
     "text": [
      "3\n",
      "3\n"
     ]
    }
   ],
   "source": [
    "t = (1,2,3,4,4,4)\n",
    "#count 指定元素的个数\n",
    "print(t.count(4))\n",
    "#index 指定元素的位置，若有多个则是第一个\n",
    "print(t.index(4))\n"
   ]
  },
  {
   "cell_type": "markdown",
   "metadata": {},
   "source": [
    "## 元祖变量交换法\n"
   ]
  },
  {
   "cell_type": "code",
   "execution_count": 92,
   "metadata": {},
   "outputs": [
    {
     "name": "stdout",
     "output_type": "stream",
     "text": [
      "1 3\n",
      "3 1\n"
     ]
    }
   ],
   "source": [
    "# 两个元素交换\n",
    "a= 1\n",
    "b= 3\n",
    "print(a,b)\n",
    "a,b=b,a\n",
    "print(a,b)\n"
   ]
  },
  {
   "cell_type": "markdown",
   "metadata": {},
   "source": [
    "# 集合set\n",
    "- 唯一，无序\n",
    "- 定义一个集合"
   ]
  },
  {
   "cell_type": "code",
   "execution_count": null,
   "metadata": {},
   "outputs": [],
   "source": [
    "#集合\n",
    "s= set()\n",
    "s2= {1,2,3,4,5,6,7}\n",
    "#只用大括号为dict"
   ]
  },
  {
   "cell_type": "markdown",
   "metadata": {},
   "source": [
    "## 集合特征\n",
    "- 数据有唯一性：可以排重（数据量特别大就不用了）\n",
    "- 无序：没法索引和分片\n",
    "- 集合内元素为可哈希数据\n",
    "\n",
    "## 集合操作\n",
    "\n",
    "## 集合内涵\n",
    "\n",
    "## 集合函数"
   ]
  },
  {
   "cell_type": "code",
   "execution_count": 94,
   "metadata": {},
   "outputs": [
    {
     "name": "stdout",
     "output_type": "stream",
     "text": [
      "{1, 2, 3}\n",
      "{1, 2, 3, 444}\n"
     ]
    }
   ],
   "source": [
    "#add\n",
    "s = {1,2,3}\n",
    "print(s)\n",
    "s.add(444)\n",
    "print(s)\n",
    "\n",
    "#clear\n",
    "#copy\n",
    "#remove：移除指定的值，若不存在则报错\n",
    "#discard:移除集合中指定的值，若不存在不报错"
   ]
  },
  {
   "cell_type": "code",
   "execution_count": 95,
   "metadata": {},
   "outputs": [
    {
     "ename": "KeyError",
     "evalue": "999",
     "traceback": [
      "\u001b[1;31m---------------------------------------------------------------------------\u001b[0m",
      "\u001b[1;31mKeyError\u001b[0m                                  Traceback (most recent call last)",
      "\u001b[1;32m<ipython-input-95-30292b8ab2be>\u001b[0m in \u001b[0;36m<module>\u001b[1;34m()\u001b[0m\n\u001b[0;32m      1\u001b[0m \u001b[0ms\u001b[0m\u001b[1;33m=\u001b[0m \u001b[1;33m{\u001b[0m\u001b[1;36m1\u001b[0m\u001b[1;33m,\u001b[0m\u001b[1;36m2\u001b[0m\u001b[1;33m,\u001b[0m\u001b[1;36m34\u001b[0m\u001b[1;33m,\u001b[0m\u001b[1;36m523\u001b[0m\u001b[1;33m,\u001b[0m\u001b[1;36m452\u001b[0m\u001b[1;33m}\u001b[0m\u001b[1;33m\u001b[0m\u001b[0m\n\u001b[0;32m      2\u001b[0m \u001b[0ms\u001b[0m\u001b[1;33m.\u001b[0m\u001b[0mdiscard\u001b[0m\u001b[1;33m(\u001b[0m\u001b[1;36m999\u001b[0m\u001b[1;33m)\u001b[0m\u001b[1;33m\u001b[0m\u001b[0m\n\u001b[1;32m----> 3\u001b[1;33m \u001b[0ms\u001b[0m\u001b[1;33m.\u001b[0m\u001b[0mremove\u001b[0m\u001b[1;33m(\u001b[0m\u001b[1;36m999\u001b[0m\u001b[1;33m)\u001b[0m\u001b[1;33m\u001b[0m\u001b[0m\n\u001b[0m",
      "\u001b[1;31mKeyError\u001b[0m: 999"
     ],
     "output_type": "error"
    }
   ],
   "source": [
    "s= {1,2,34,523,452}\n",
    "s.discard(999)\n",
    "s.remove(999)"
   ]
  },
  {
   "cell_type": "code",
   "execution_count": 100,
   "metadata": {},
   "outputs": [
    {
     "name": "stdout",
     "output_type": "stream",
     "text": [
      "1\n",
      "{2, 3, 4, 5, 6}\n"
     ]
    }
   ],
   "source": [
    "#pop 随机移除一个元素\n",
    "s= {1,2,3,4,5,6}\n",
    "d= s.pop()\n",
    "print(d)\n",
    "print(s)"
   ]
  },
  {
   "cell_type": "code",
   "execution_count": 101,
   "metadata": {},
   "outputs": [
    {
     "name": "stdout",
     "output_type": "stream",
     "text": [
      "{5, 6, 7}\n",
      "{1, 2, 3, 4}\n",
      "{1, 2, 3, 4, 5, 6, 7, 8, 9, 10}\n"
     ]
    }
   ],
   "source": [
    "# intersection : 交集\n",
    "# difference : 差集\n",
    "# union : 并集\n",
    "# issubset : 是否是子集\n",
    "# issuperset : 是否是超集\n",
    "s1 = {1,2,3,4,5,6,7}\n",
    "s2 = {5,6,7,8,9,10}\n",
    "s_1 = s1.intersection(s2)\n",
    "print(s_1)\n",
    "\n",
    "s_2 = s1.difference(s2)\n",
    "print(s_2)\n",
    "\n",
    "s_3 = s1.union(s2)\n",
    "print(s_3)"
   ]
  },
  {
   "cell_type": "markdown",
   "metadata": {},
   "source": [
    "## frozen set:冰冻集合\n",
    "- 无法修改"
   ]
  },
  {
   "cell_type": "code",
   "execution_count": 102,
   "metadata": {},
   "outputs": [
    {
     "name": "stdout",
     "output_type": "stream",
     "text": [
      "<class 'frozenset'>\n"
     ]
    }
   ],
   "source": [
    "s= frozenset()\n",
    "print(type(s))"
   ]
  },
  {
   "cell_type": "markdown",
   "metadata": {},
   "source": [
    "# dict 字典\n",
    "- 键值对，无序"
   ]
  },
  {
   "cell_type": "code",
   "execution_count": 105,
   "metadata": {},
   "outputs": [
    {
     "name": "stdout",
     "output_type": "stream",
     "text": [
      "<class 'dict'>\n",
      "{'one': 1, 'two': 2, 'three': 3}\n"
     ]
    }
   ],
   "source": [
    "# 创建\n",
    "d= {}\n",
    "print(type(d))\n",
    "\n",
    "d= {'one':1, 'two':2, 'three':3}\n",
    "print(d)"
   ]
  },
  {
   "cell_type": "markdown",
   "metadata": {},
   "source": [
    "## 字典的特征\n",
    "\n",
    "## 字典的操作\n",
    "- del d['one']\n",
    "- 成员检测：检测的key的内容\n",
    "- 字典遍历\n"
   ]
  },
  {
   "cell_type": "code",
   "execution_count": 109,
   "metadata": {},
   "outputs": [
    {
     "name": "stdout",
     "output_type": "stream",
     "text": [
      "one 1\n",
      "two 2\n",
      "three 3\n",
      "one 1\n",
      "two 2\n",
      "three 3\n",
      "1\n",
      "2\n",
      "3\n",
      "one --> 1\n",
      "two --> 2\n",
      "three --> 3\n"
     ]
    }
   ],
   "source": [
    "# 按key访问\n",
    "d= {'one':1, 'two':2, 'three':3}\n",
    "for k in d:\n",
    "    print(k, d[k])\n",
    "\n",
    "for k in d.keys():\n",
    "    print(k,d[k])\n",
    "# 只访问值\n",
    "for v in d.values():\n",
    "    print(v)\n",
    "    \n",
    "# 注意\n",
    "for k,v in d.items():\n",
    "    print(k,'-->',v)"
   ]
  },
  {
   "cell_type": "markdown",
   "metadata": {},
   "source": [
    "## 字典生成式\n",
    "- 过滤"
   ]
  },
  {
   "cell_type": "code",
   "execution_count": 112,
   "metadata": {},
   "outputs": [
    {
     "name": "stdout",
     "output_type": "stream",
     "text": [
      "{'one': 1, 'two': 2, 'three': 3}\n",
      "{'two': 2}\n"
     ]
    }
   ],
   "source": [
    "d= {'one':1, 'two':2, 'three':3}\n",
    "print(d)\n",
    "dd = {k:v for k,v in d.items() if v%2 == 0}\n",
    "print(dd)"
   ]
  },
  {
   "cell_type": "markdown",
   "metadata": {},
   "source": [
    "## 字典相关函数\n",
    "- len, max, min, dict\n",
    "- str:返回字典的字符串格式\n",
    "- items\n",
    "- keys\n",
    "- values\n",
    "- get:根据指定键返回值（好处是可以设置默认值）"
   ]
  },
  {
   "cell_type": "code",
   "execution_count": 119,
   "metadata": {},
   "outputs": [
    {
     "name": "stdout",
     "output_type": "stream",
     "text": [
      "{'one': 1, 'two': 2, 'three': 3}\n",
      "dict_items([('one', 1), ('two', 2), ('three', 3)])\n",
      "dict_keys(['one', 'two', 'three'])\n",
      "dict_values([1, 2, 3])\n",
      "1\n",
      "None\n",
      "没有\n"
     ]
    }
   ],
   "source": [
    "d= {'one':1, 'two':2, 'three':3}\n",
    "print(str(d))\n",
    "print(d.items())\n",
    "print(d.keys())\n",
    "print(d.values())\n",
    "\n",
    "print(d.get('one'))\n",
    "print(d.get('one222'))\n",
    "#默认没找到则返回None，可设置默认值为‘没有’\n",
    "print(d.get('one222','没有'))"
   ]
  },
  {
   "cell_type": "markdown",
   "metadata": {},
   "source": [
    "- fromkeys：使用指定序列为键，使用一个值为所有键的值"
   ]
  },
  {
   "cell_type": "code",
   "execution_count": 121,
   "metadata": {},
   "outputs": [
    {
     "name": "stdout",
     "output_type": "stream",
     "text": [
      "{'A': '值值值', 'B': '值值值', 'C': '值值值'}\n"
     ]
    }
   ],
   "source": [
    "l= ['A', 'B', 'C']\n",
    "#fromekeys主题为dict，有两个参数\n",
    "d= dict.fromkeys(l,'值值值')\n",
    "print(d)"
   ]
  },
  {
   "cell_type": "code",
   "execution_count": null,
   "metadata": {},
   "outputs": [],
   "source": []
  },
  {
   "cell_type": "code",
   "execution_count": null,
   "metadata": {},
   "outputs": [],
   "source": []
  },
  {
   "cell_type": "code",
   "execution_count": null,
   "metadata": {},
   "outputs": [],
   "source": []
  },
  {
   "cell_type": "code",
   "execution_count": null,
   "metadata": {},
   "outputs": [],
   "source": []
  },
  {
   "cell_type": "code",
   "execution_count": null,
   "metadata": {},
   "outputs": [],
   "source": []
  }
 ],
 "metadata": {
  "kernelspec": {
   "display_name": "Python 3",
   "language": "python",
   "name": "python3"
  },
  "language_info": {
   "codemirror_mode": {
    "name": "ipython",
    "version": 3
   },
   "file_extension": ".py",
   "mimetype": "text/x-python",
   "name": "python",
   "nbconvert_exporter": "python",
   "pygments_lexer": "ipython3",
   "version": "3.6.5"
  }
 },
 "nbformat": 4,
 "nbformat_minor": 2
}
